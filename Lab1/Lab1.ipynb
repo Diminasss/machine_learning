{
 "cells": [
  {
   "metadata": {},
   "cell_type": "markdown",
   "source": [
    "# Никитин Дмитрий 4217\n",
    "## Вариант №3\n",
    "\"Классификация текстов (IMDb Reviews)\"\n",
    "Описание задачи:\n",
    "Используем датасет IMDb Reviews, который состоит из текстовых отзывов о фильмах, помеченных как положительные (positive) или отрицательные (negative). Нужно обучить нейронную сеть для классификации текстов на основе этих данных.\n",
    "Шаги работы:\n",
    "1. *Загрузка данных:* датасет IMDb Reviews доступен через Keras и на Kaggle.\n",
    "2. *Предобработка данных:* тексты в датасете представлены в виде индексов слов в словаре. Надо преобразовать их обратно в текстовый формат для дальнейшей обработки. Нужно преобразовать индексы в массивы с использованием pad_sequences, чтобы тексты были одинаковой длины\n",
    "3. *Обучение модели:* создать нейронную сеть для классификации текста на положительный или отрицательный отзыв.\n",
    "4. *Тестирование:* протестировать модель на тестовых данных. Оценить точность модели на тестовой выборке."
   ],
   "id": "e6dda1f681ebb92"
  },
  {
   "cell_type": "code",
   "execution_count": null,
   "id": "initial_id",
   "metadata": {
    "collapsed": true
   },
   "outputs": [],
   "source": [
    ""
   ]
  }
 ],
 "metadata": {
  "kernelspec": {
   "display_name": "Python 3",
   "language": "python",
   "name": "python3"
  },
  "language_info": {
   "codemirror_mode": {
    "name": "ipython",
    "version": 2
   },
   "file_extension": ".py",
   "mimetype": "text/x-python",
   "name": "python",
   "nbconvert_exporter": "python",
   "pygments_lexer": "ipython2",
   "version": "2.7.6"
  }
 },
 "nbformat": 4,
 "nbformat_minor": 5
}
